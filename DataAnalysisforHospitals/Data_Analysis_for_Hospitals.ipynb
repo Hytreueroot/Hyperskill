{
 "cells": [
  {
   "cell_type": "markdown",
   "metadata": {},
   "source": [
    "# Data Analysis for Hospitals"
   ]
  },
  {
   "cell_type": "markdown",
   "metadata": {},
   "source": [
    "### Importing Libraries"
   ]
  },
  {
   "cell_type": "code",
   "execution_count": 1,
   "metadata": {},
   "outputs": [],
   "source": [
    "import pandas as pd\n",
    "import matplotlib.pyplot as plt"
   ]
  },
  {
   "cell_type": "markdown",
   "metadata": {},
   "source": [
    "### Setting Display Options"
   ]
  },
  {
   "cell_type": "code",
   "execution_count": 2,
   "metadata": {},
   "outputs": [],
   "source": [
    "pd.set_option('display.max_columns', 20)"
   ]
  },
  {
   "cell_type": "markdown",
   "metadata": {},
   "source": [
    "### Reading CSV Files "
   ]
  },
  {
   "cell_type": "code",
   "execution_count": 3,
   "metadata": {},
   "outputs": [],
   "source": [
    "general = pd.read_csv('D:\\Pycharm Project\\Data Analysis for Hospitals/general.csv')\n",
    "prenatal = pd.read_csv('D:\\Pycharm Project\\Data Analysis for Hospitals/prenatal.csv')\n",
    "sports = pd.read_csv('D:\\Pycharm Project\\Data Analysis for Hospitals/sports.csv')"
   ]
  },
  {
   "cell_type": "markdown",
   "metadata": {},
   "source": [
    "### Changing the Column Names\n",
    "\n",
    "The Column Names of the Sports and Prenatal Tables Must Match the Column Names of the General Table"
   ]
  },
  {
   "cell_type": "code",
   "execution_count": 4,
   "metadata": {},
   "outputs": [],
   "source": [
    "prenatal.rename(columns = {'HOSPITAL':'hospital', 'Sex':'gender'}, inplace = True)\n",
    "sports.rename(columns = {'Hospital':'hospital', 'Male/female':'gender'}, inplace = True)"
   ]
  },
  {
   "cell_type": "markdown",
   "metadata": {},
   "source": [
    "### Merging the Dataframes"
   ]
  },
  {
   "cell_type": "code",
   "execution_count": 5,
   "metadata": {},
   "outputs": [],
   "source": [
    "df = pd.concat([general, prenatal, sports], ignore_index = True)"
   ]
  },
  {
   "cell_type": "markdown",
   "metadata": {},
   "source": [
    "### Data Cleaning"
   ]
  },
  {
   "cell_type": "code",
   "execution_count": 6,
   "metadata": {},
   "outputs": [],
   "source": [
    "del df[\"Unnamed: 0\"] # Deleting the Unnamed: 0 column\n",
    "\n",
    "df.dropna(axis=0, how=\"all\", inplace=True) # Deleting all the empty rows"
   ]
  },
  {
   "cell_type": "markdown",
   "metadata": {},
   "source": [
    "### Data Manipulation"
   ]
  },
  {
   "cell_type": "code",
   "execution_count": 7,
   "metadata": {},
   "outputs": [],
   "source": [
    "# All the gender column values to f and m Respectively\n",
    "df[\"gender\"].replace([\"female\", \"woman\"], \"f\", inplace=True)\n",
    "df[\"gender\"].replace([\"male\", \"man\"], \"m\", inplace=True)\n",
    "\n",
    "# Replace the NaN values in the gender column of the prenatal hospital with f\n",
    "df.loc[(df[\"hospital\"] == \"prenatal\") & (df[\"gender\"].isnull()), \"gender\"] = \"f\"\n",
    "\n",
    "# Replace the NaN values in the bmi, diagnosis, blood_test, ecg, ultrasound, mri, xray, children, months columns with zeros\n",
    "df[[\"bmi\", \"diagnosis\", \"blood_test\", \"ecg\", \"ultrasound\", \"mri\", \"xray\", \"children\", \"months\"]] = df[[\"bmi\", \"diagnosis\", \"blood_test\", \"ecg\", \"ultrasound\", \"mri\", \"xray\", \"children\", \"months\"]].fillna(0)\n"
   ]
  },
  {
   "cell_type": "markdown",
   "metadata": {},
   "source": [
    "### Q1 - What is the most common age of a patient among all hospitals? Plot a histogram and choose one of the following age ranges: 0-15, 15-35, 35-55, 55-70, or 70-80"
   ]
  },
  {
   "cell_type": "code",
   "execution_count": 8,
   "metadata": {},
   "outputs": [
    {
     "data": {
      "text/plain": [
       "Text(0.5, 0, 'Age')"
      ]
     },
     "execution_count": 8,
     "metadata": {},
     "output_type": "execute_result"
    },
    {
     "data": {
      "image/png": "[encoded data removed]",
      "text/plain": [
       "<Figure size 432x288 with 1 Axes>"
      ]
     },
     "metadata": {
      "needs_background": "light"
     },
     "output_type": "display_data"
    }
   ],
   "source": [
    "plt.figure(1)\n",
    "plt.hist(df['age'], bins=[0,15,35,55,70,80], color = \"r\", edgecolor = \"white\", )\n",
    "plt.title(\"Patient age\")\n",
    "plt.ylabel(\"Number of people\")\n",
    "plt.xlabel(\"Age\")"
   ]
  },
  {
   "cell_type": "markdown",
   "metadata": {},
   "source": [
    "### Q2 - What is the most common diagnosis among patients in all hospitals? Create a pie chart"
   ]
  },
  {
   "cell_type": "code",
   "execution_count": 9,
   "metadata": {},
   "outputs": [
    {
     "data": {
      "text/plain": [
       "([<matplotlib.patches.Wedge at 0x1e603d4b820>,\n",
       "  <matplotlib.patches.Wedge at 0x1e603d4bf40>,\n",
       "  <matplotlib.patches.Wedge at 0x1e603d746a0>,\n",
       "  <matplotlib.patches.Wedge at 0x1e603d74dc0>,\n",
       "  <matplotlib.patches.Wedge at 0x1e603d754e0>,\n",
       "  <matplotlib.patches.Wedge at 0x1e603d75c00>,\n",
       "  <matplotlib.patches.Wedge at 0x1e603d76320>],\n",
       " [Text(0.6006446227216357, 0.9334484652060788, 'pregnancy'),\n",
       "  Text(-0.9554236203489841, 0.5650360215767137, 'cold'),\n",
       "  Text(-0.9353308682427004, -0.5977090989037697, 'stomach'),\n",
       "  Text(-0.20113839190262991, -1.0916241785994043, 'sprain'),\n",
       "  Text(0.44722616513862556, -1.0159176921460709, 'dislocation'),\n",
       "  Text(0.9041180283912361, -0.6439492144089812, 'fracture'),\n",
       "  Text(1.0928664193671291, -0.19427555023643625, 'heart')],\n",
       " [Text(0.330083981856034, 0.5129761835817189, '31.8%'),\n",
       "  Text(-0.525052620191784, 0.3105152911367525, '19.4%'),\n",
       "  Text(-0.514010657322565, -0.3284707660642338, '15.7%'),\n",
       "  Text(-0.11053551266721102, -0.5999015756266997, '10.4%'),\n",
       "  Text(0.2457729375987041, -0.5582971100982912, '8.6%'),\n",
       "  Text(0.49685765524203057, -0.35388200071124193, '8.5%'),\n",
       "  Text(0.6005842484810349, -0.10676404112092441, '5.6%')])"
      ]
     },
     "execution_count": 9,
     "metadata": {},
     "output_type": "execute_result"
    },
    {
     "data": {
      "image/png": "[encoded data removed]",
      "text/plain": [
       "<Figure size 432x288 with 1 Axes>"
      ]
     },
     "metadata": {},
     "output_type": "display_data"
    }
   ],
   "source": [
    "plt.figure(2)\n",
    "explode = [0.01] * len(df['diagnosis'].value_counts())\n",
    "plt.pie(df['diagnosis'].value_counts(), labels = ['pregnancy', 'cold', 'stomach', 'sprain', 'dislocation', 'fracture', 'heart'], autopct='%.1f%%', explode = explode)"
   ]
  },
  {
   "cell_type": "markdown",
   "metadata": {},
   "source": [
    "### Q3 - Build a violin plot of height distribution by hospitals. Try to answer the questions. What is the main reason for the gap in values? Why there are two peaks, which correspond to the relatively small and big values?"
   ]
  },
  {
   "cell_type": "code",
   "execution_count": 10,
   "metadata": {},
   "outputs": [
    {
     "data": {
      "text/plain": [
       "{'bodies': [<matplotlib.collections.PolyCollection at 0x1e603de6740>,\n",
       "  <matplotlib.collections.PolyCollection at 0x1e603de6b00>,\n",
       "  <matplotlib.collections.PolyCollection at 0x1e603de6170>],\n",
       " 'cmaxes': <matplotlib.collections.LineCollection at 0x1e603de66e0>,\n",
       " 'cmins': <matplotlib.collections.LineCollection at 0x1e603de7310>,\n",
       " 'cbars': <matplotlib.collections.LineCollection at 0x1e603de7730>}"
      ]
     },
     "execution_count": 10,
     "metadata": {},
     "output_type": "execute_result"
    },
    {
     "data": {
      "image/png": "[encoded data removed]",
      "text/plain": [
       "<Figure size 432x288 with 1 Axes>"
      ]
     },
     "metadata": {
      "needs_background": "light"
     },
     "output_type": "display_data"
    }
   ],
   "source": [
    "data_general = df.loc[df.hospital == 'general', 'height']\n",
    "\n",
    "data_sports = df.loc[df.hospital == 'sports', 'height']\n",
    "\n",
    "data_prenatal = df.loc[df.hospital == 'prenatal', 'height']\n",
    "data_list = [data_general, data_sports, data_prenatal]\n",
    "\n",
    "fig, axes = plt.subplots()\n",
    "\n",
    "axes.set_xticks((1, 2, 3))\n",
    "axes.set_xticklabels((\"General\", \"Sports\", \"Prenatal\"))\n",
    "\n",
    "plt.violinplot(data_list)"
   ]
  },
  {
   "cell_type": "code",
   "execution_count": 11,
   "metadata": {},
   "outputs": [],
   "source": [
    "plt.show() "
   ]
  },
  {
   "cell_type": "code",
   "execution_count": 12,
   "metadata": {},
   "outputs": [
    {
     "name": "stdout",
     "output_type": "stream",
     "text": [
      "The answer to the 1st question: 15-35\n",
      "The answer to the 2nd question: pregnancy\n",
      "The answer to the 3rd question: It's because some hospitals measure patients' height in feet, while some hospitals measure it in meters.\n"
     ]
    }
   ],
   "source": [
    "print(\"The answer to the 1st question: 15-35\")\n",
    "print(\"The answer to the 2nd question: pregnancy\")\n",
    "print(\"The answer to the 3rd question: It's because some hospitals measure patients' height in feet, while some hospitals measure it in meters.\")"
   ]
  }
 ],
 "metadata": {
  "kernelspec": {
   "display_name": "Python 3.10.5 64-bit (windows store)",
   "language": "python",
   "name": "python3"
  },
  "language_info": {
   "codemirror_mode": {
    "name": "ipython",
    "version": 3
   },
   "file_extension": ".py",
   "mimetype": "text/x-python",
   "name": "python",
   "nbconvert_exporter": "python",
   "pygments_lexer": "ipython3",
   "version": "3.10.5"
  },
  "orig_nbformat": 4,
  "vscode": {
   "interpreter": {
    "hash": "e605c157e9376f034f04926ad9ba0875d446264fdfb3cabb15d12aa4e2f8fb0d"
   }
  }
 },
 "nbformat": 4,
 "nbformat_minor": 2
}
